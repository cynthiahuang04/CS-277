{
 "cells": [
  {
   "cell_type": "code",
   "execution_count": 1,
   "metadata": {},
   "outputs": [],
   "source": [
    "def sum_up_to(x):\n",
    "    sum = 0\n",
    "    for i in range(x):\n",
    "        sum+=i\n",
    "    return sum"
   ]
  },
  {
   "cell_type": "code",
   "execution_count": 2,
   "metadata": {},
   "outputs": [],
   "source": [
    "def sum_up_to(x):\n",
    "    return x * (x+1) / 2"
   ]
  },
  {
   "cell_type": "markdown",
   "metadata": {},
   "source": [
    "**Big O** or asymptotic efficiency is a much better way of analyzing algorithm (and data structure) performance. While we will discuss the mathematical definition in class, a simplified definition is simply the act of identifying an upper bound on the runtime of a function as the function input grows towards infinity."
   ]
  },
  {
   "cell_type": "code",
   "execution_count": null,
   "metadata": {},
   "outputs": [],
   "source": [
    "# Constant Time\n",
    "def constant(n):\n",
    "    ops = 0\n",
    "    x = n\n",
    "    ops+=1\n",
    "    return ops\n",
    "\n",
    "print(constant(5))\n",
    "print(constant(9001))"
   ]
  },
  {
   "cell_type": "code",
   "execution_count": null,
   "metadata": {},
   "outputs": [],
   "source": [
    "# Logarithmic Time\n",
    "import math\n",
    "def logarithmic(n):\n",
    "    ops = 0\n",
    "    for i in range(int(math.log2(n))):\n",
    "        ops+=1\n",
    "    return ops\n",
    "\n",
    "print(logarithmic(5))\n",
    "print(logarithmic(9001))"
   ]
  },
  {
   "cell_type": "code",
   "execution_count": null,
   "metadata": {},
   "outputs": [],
   "source": [
    "# Linear Time\n",
    "def linear(n):\n",
    "    ops = 0\n",
    "    for i in range(n):\n",
    "        ops+=1\n",
    "    return ops\n",
    "\n",
    "print(linear(5))\n",
    "print(linear(9001))"
   ]
  },
  {
   "cell_type": "code",
   "execution_count": null,
   "metadata": {},
   "outputs": [],
   "source": [
    "# Quadratic Time\n",
    "def quadratic(n):\n",
    "    ops = 0\n",
    "    for i in range(n):\n",
    "        for j in range(n):\n",
    "            ops+=1\n",
    "    return ops\n",
    "\n",
    "print(quadratic(5))\n",
    "print(quadratic(9001))"
   ]
  },
  {
   "cell_type": "code",
   "execution_count": 1,
   "metadata": {},
   "outputs": [
    {
     "name": "stdout",
     "output_type": "stream",
     "text": [
      "(3, 30)\n"
     ]
    }
   ],
   "source": [
    "def doStuff(inList1, inList2):\n",
    "    c1 = 0\n",
    "    for i in inList1:\n",
    "        c1+=1\n",
    "    \n",
    "    c2 = 0\n",
    "    for v1 in inList1:\n",
    "        for v2 in inList2:\n",
    "            c2+=1\n",
    "    return c1, c2\n",
    "\n",
    "print(doStuff([1,2,3], list(range(10))))"
   ]
  },
  {
   "cell_type": "code",
   "execution_count": 5,
   "metadata": {},
   "outputs": [
    {
     "name": "stdout",
     "output_type": "stream",
     "text": [
      "50\n",
      "90010\n"
     ]
    }
   ],
   "source": [
    "def doStuff2(n):\n",
    "    ops = 0\n",
    "    for i in range(10):\n",
    "        ops+=n\n",
    "    return ops\n",
    "\n",
    "print(doStuff2(5))\n",
    "print(doStuff2(9001))"
   ]
  },
  {
   "cell_type": "code",
   "execution_count": 23,
   "metadata": {},
   "outputs": [
    {
     "name": "stdout",
     "output_type": "stream",
     "text": [
      "12\n",
      "21\n",
      "30\n"
     ]
    }
   ],
   "source": [
    "def doStuff3(inList):\n",
    "    ops = 0\n",
    "    size = len(inList)\n",
    "    while size > 0:\n",
    "        size = int(size / 2)\n",
    "        ops+=1\n",
    "    return ops\n",
    "\n",
    "def doStuff4(inList1, inList2):\n",
    "    ops = 0\n",
    "    for i in inList1:\n",
    "        ops+= doStuff3(inList2)\n",
    "    return ops\n",
    "\n",
    "print(doStuff4([1,2,3], list(range(10))))\n",
    "print(doStuff4([1,2,3], list(range(100))))\n",
    "print(doStuff4([1,2,3], list(range(1000))))"
   ]
  },
  {
   "cell_type": "markdown",
   "metadata": {},
   "source": [
    "**Randomness in Data Science** Whether you are simulating real-world data or just testing out an algorithm or function on a simplified dataset, creating a random dataset is a common task in data science. Here we will explore how we can use the built-in Python module `random` and (eventually) extend these functions to practical applications.\n",
    "\n",
    "\n",
    "One such Python module is `random`, which implements pseudo-random number generators according to various probability distributions. What does it mean to be pseudo-random? Lets explore below!"
   ]
  },
  {
   "cell_type": "code",
   "execution_count": 16,
   "metadata": {},
   "outputs": [
    {
     "name": "stdout",
     "output_type": "stream",
     "text": [
      "0.8474337369372327\n",
      "0.13436424411240122\n"
     ]
    }
   ],
   "source": [
    "import random\n",
    "\n",
    "print(random.random())   #something different every time you run\n",
    "\n",
    "random.seed(1)  #make sure it's the same everytime\n",
    "\n",
    "print(random.random())"
   ]
  },
  {
   "cell_type": "code",
   "execution_count": 17,
   "metadata": {},
   "outputs": [
    {
     "name": "stdout",
     "output_type": "stream",
     "text": [
      "0.809817202370851\n",
      "0.7882837082814187\n",
      "0.3125870959324071\n",
      "*****\n",
      "0.13436424411240122\n",
      "0.8474337369372327\n",
      "0.763774618976614\n",
      "*****\n",
      "0.13436424411240122\n",
      "0.8474337369372327\n",
      "0.763774618976614\n"
     ]
    }
   ],
   "source": [
    "import random\n",
    "random.seed() #Wall clock time seed\n",
    "for i in range(3):\n",
    "    print(random.random())\n",
    "\n",
    "for i in range(2):\n",
    "    print(\"*****\")\n",
    "    random.seed(1)\n",
    "    for j in range(3):\n",
    "        print(random.random())\n"
   ]
  },
  {
   "cell_type": "code",
   "execution_count": 18,
   "metadata": {},
   "outputs": [
    {
     "name": "stdout",
     "output_type": "stream",
     "text": [
      "3\n",
      "[4, 6, 4, 2, 10, 6, 4, 3, 6, 0]\n"
     ]
    }
   ],
   "source": [
    "min = 1\n",
    "max = 5\n",
    "\n",
    "print(random.randint(min, max))\n",
    "\n",
    "random.seed()\n",
    "l = []\n",
    "for i in range(10):\n",
    "    l.append(random.randint(0, 10))\n",
    "print(l)"
   ]
  },
  {
   "cell_type": "code",
   "execution_count": 19,
   "metadata": {},
   "outputs": [
    {
     "name": "stdout",
     "output_type": "stream",
     "text": [
      "C\n",
      "['D', 'B', 'B', 'C', 'C', 'C', 'A', 'A', 'D', 'B']\n"
     ]
    }
   ],
   "source": [
    "options = [\"A\", \"B\", \"C\", \"D\"]\n",
    "\n",
    "print(random.choice(options)) \n",
    "\n",
    "random.seed()\n",
    "l = []\n",
    "for i in range(10):\n",
    "    l.append(random.choice(options))\n",
    "print(l)"
   ]
  },
  {
   "cell_type": "code",
   "execution_count": 20,
   "metadata": {},
   "outputs": [
    {
     "name": "stdout",
     "output_type": "stream",
     "text": [
      "['A']\n",
      "['C', 'B', 'D']\n"
     ]
    }
   ],
   "source": [
    "options = [\"A\", \"B\", \"C\", \"D\"]\n",
    "\n",
    "print(random.sample(options, 1)) \n",
    "\n",
    "random.seed()\n",
    "l = random.sample(options, 3)\n",
    "print(l)"
   ]
  },
  {
   "cell_type": "code",
   "execution_count": 22,
   "metadata": {},
   "outputs": [
    {
     "name": "stdout",
     "output_type": "stream",
     "text": [
      "[0, 1, 2, 3, 4, 5, 6, 7, 8, 9]\n",
      "[7, 3, 2, 6, 0, 5, 1, 8, 9, 4]\n",
      "[5, 8, 9, 7, 3, 2, 4, 0, 6, 1]\n"
     ]
    }
   ],
   "source": [
    "l = list(range(10))\n",
    "print(l)\n",
    "random.shuffle(l) #directly modifies list with new order\n",
    "print(l)\n",
    "random.shuffle(l)\n",
    "print(l)"
   ]
  },
  {
   "cell_type": "code",
   "execution_count": null,
   "metadata": {},
   "outputs": [],
   "source": []
  }
 ],
 "metadata": {
  "kernelspec": {
   "display_name": "Python 3 (ipykernel)",
   "language": "python",
   "name": "python3"
  },
  "language_info": {
   "codemirror_mode": {
    "name": "ipython",
    "version": 3
   },
   "file_extension": ".py",
   "mimetype": "text/x-python",
   "name": "python",
   "nbconvert_exporter": "python",
   "pygments_lexer": "ipython3",
   "version": "3.12.2"
  }
 },
 "nbformat": 4,
 "nbformat_minor": 4
}
