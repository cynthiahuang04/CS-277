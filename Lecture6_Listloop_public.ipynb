{
 "cells": [
  {
   "cell_type": "markdown",
   "metadata": {},
   "source": [
    "## Lists"
   ]
  },
  {
   "cell_type": "markdown",
   "metadata": {},
   "source": [
    "The List is arguably the most important (and most used) data structure -- virtually every other data structure and most data formats can be considered at least partially implemented by a list.\n",
    "\n",
    "So what defines a list? Ignoring any implementation details, a list is an object that:\n",
    "\n",
    "- stores a collection of data in an arbitrary order\n",
    "\n",
    "and can perform the following operations:\n",
    "\n",
    "- Constructor\n",
    "- Insert\n",
    "- Delete\n",
    "- getData\n",
    "- getSize\n",
    "\n",
    "Any additional operations on top of these are just a useful bonus (and Python has many)!"
   ]
  },
  {
   "cell_type": "markdown",
   "metadata": {},
   "source": [
    "### Constructor"
   ]
  },
  {
   "cell_type": "code",
   "execution_count": 1,
   "metadata": {},
   "outputs": [],
   "source": [
    "emptyList = []\n",
    "\n",
    "myList = [1, 2, 3]\n",
    "\n",
    "mixedList = [\"A\", 2, 3.0, [\"Nested\", \"List\"]]"
   ]
  },
  {
   "cell_type": "markdown",
   "metadata": {},
   "source": [
    "### Accessing List Data"
   ]
  },
  {
   "cell_type": "code",
   "execution_count": 2,
   "metadata": {},
   "outputs": [
    {
     "name": "stdout",
     "output_type": "stream",
     "text": [
      "2\n",
      "['B', 2, 2]\n"
     ]
    }
   ],
   "source": [
    "myList = [1, 2, 3]\n",
    "print(myList[1])\n",
    "\n",
    "myList[0]=\"B\"\n",
    "myList[-1]=myList[1]\n",
    "\n",
    "print(myList)"
   ]
  },
  {
   "cell_type": "code",
   "execution_count": 3,
   "metadata": {},
   "outputs": [
    {
     "name": "stdout",
     "output_type": "stream",
     "text": [
      "[0, 1, 2, 3, 4, 5, 6, 7]\n",
      "[3, 4]\n"
     ]
    }
   ],
   "source": [
    "myList = list(range(8))\n",
    "print(myList)\n",
    "print(myList[3:5])"
   ]
  },
  {
   "cell_type": "code",
   "execution_count": 4,
   "metadata": {},
   "outputs": [
    {
     "name": "stdout",
     "output_type": "stream",
     "text": [
      "[1, 2, 3, 4, 'B'] [1, 'A', 3, 4, 5] [1, 2, 3, 4, 'B']\n"
     ]
    }
   ],
   "source": [
    "l1 = [1, 2, 3, 4, 5]\n",
    "l2 = l1[:]\n",
    "l3 = l1\n",
    "\n",
    "l2[1]=\"A\"\n",
    "l3[4]=\"B\"\n",
    "\n",
    "print(l1, l2, l3)"
   ]
  },
  {
   "cell_type": "markdown",
   "metadata": {},
   "source": [
    "### Insert"
   ]
  },
  {
   "cell_type": "code",
   "execution_count": 5,
   "metadata": {},
   "outputs": [
    {
     "name": "stdout",
     "output_type": "stream",
     "text": [
      "[1, 2, 3]\n"
     ]
    }
   ],
   "source": [
    "emptyList = []\n",
    "emptyList.append(1)\n",
    "emptyList.append(2)\n",
    "emptyList.append(3)\n",
    "print(emptyList)"
   ]
  },
  {
   "cell_type": "code",
   "execution_count": 6,
   "metadata": {},
   "outputs": [
    {
     "name": "stdout",
     "output_type": "stream",
     "text": [
      "['A']\n",
      "['B', 'A']\n",
      "['B', 'C', 'A']\n"
     ]
    }
   ],
   "source": [
    "l1 = []\n",
    "l1.insert(2, \"A\") \n",
    "print(l1)\n",
    "l1.insert(0, \"B\") \n",
    "print(l1)\n",
    "l1.insert(1, \"C\") \n",
    "print(l1)"
   ]
  },
  {
   "cell_type": "markdown",
   "metadata": {},
   "source": [
    "### Delete"
   ]
  },
  {
   "cell_type": "code",
   "execution_count": null,
   "metadata": {},
   "outputs": [],
   "source": [
    "l1 = [1, 2, 3, 4, 5]\n",
    "l1.pop()\n",
    "x = l1.pop(2)\n",
    "print(x, l1)"
   ]
  },
  {
   "cell_type": "code",
   "execution_count": null,
   "metadata": {},
   "outputs": [],
   "source": [
    "l1 = [1, 2, 3, 4, 5]\n",
    "l1.remove(6)\n",
    "\n",
    "l1.remove(2)\n",
    "print(l1)"
   ]
  },
  {
   "cell_type": "markdown",
   "metadata": {},
   "source": [
    "### getSize"
   ]
  },
  {
   "cell_type": "code",
   "execution_count": null,
   "metadata": {},
   "outputs": [],
   "source": [
    "l1 = [1, 2]\n",
    "print(len(l1))"
   ]
  },
  {
   "cell_type": "markdown",
   "metadata": {},
   "source": [
    "### Other Functions"
   ]
  },
  {
   "cell_type": "code",
   "execution_count": null,
   "metadata": {},
   "outputs": [],
   "source": [
    "l1 = [1, 2, 3]\n",
    "l2 = [4, 5, 6]\n",
    "\n",
    "print(l1 + l2)"
   ]
  },
  {
   "cell_type": "code",
   "execution_count": null,
   "metadata": {},
   "outputs": [],
   "source": [
    "l1 = list(range(6))\n",
    "l1.reverse()\n",
    "print(l1)\n",
    "l1.sort()\n",
    "print(l1)"
   ]
  },
  {
   "cell_type": "code",
   "execution_count": null,
   "metadata": {},
   "outputs": [],
   "source": [
    "myL = list(range(0, 10, 3))\n",
    "\n",
    "myL[0], myL[-1] = myL[-1], myL[0]\n",
    "\n",
    "myL.append(2)\n",
    "\n",
    "myL.remove(3)\n",
    "\n",
    "myL.pop()\n",
    "myL.pop(1)\n",
    "\n",
    "print(myL)\n"
   ]
  },
  {
   "cell_type": "code",
   "execution_count": null,
   "metadata": {},
   "outputs": [],
   "source": [
    "l = [1,2,3,4,5,6]\n",
    "x = l.pop()\n",
    "l.pop()\n",
    "\n",
    "l.pop()\n",
    "l.insert(0, x)\n",
    "l.append(8)\n",
    "l += [1, 2]\n",
    "\n",
    "print(l)\n"
   ]
  },
  {
   "cell_type": "markdown",
   "metadata": {},
   "source": [
    "## Loops"
   ]
  },
  {
   "cell_type": "markdown",
   "metadata": {},
   "source": [
    "### For Loops"
   ]
  },
  {
   "cell_type": "code",
   "execution_count": null,
   "metadata": {},
   "outputs": [],
   "source": [
    "for i in range(5):\n",
    "    print(i)"
   ]
  },
  {
   "cell_type": "code",
   "execution_count": null,
   "metadata": {},
   "outputs": [],
   "source": [
    "for x in range(3, 6):\n",
    "    print(x)"
   ]
  },
  {
   "cell_type": "code",
   "execution_count": null,
   "metadata": {},
   "outputs": [],
   "source": [
    "for _ in range(0, 10, 2):\n",
    "    print(\"How many?\")"
   ]
  },
  {
   "cell_type": "markdown",
   "metadata": {},
   "source": [
    "### While Loops"
   ]
  },
  {
   "cell_type": "code",
   "execution_count": null,
   "metadata": {},
   "outputs": [],
   "source": [
    "count = 0\n",
    "while(count <= 2):\n",
    "    print(count)\n",
    "    count+=1"
   ]
  },
  {
   "cell_type": "code",
   "execution_count": null,
   "metadata": {},
   "outputs": [],
   "source": [
    "count = 0\n",
    "while(count < 10):\n",
    "    print(\"How many?\")\n",
    "    count+=2"
   ]
  },
  {
   "cell_type": "code",
   "execution_count": null,
   "metadata": {},
   "outputs": [],
   "source": [
    "loop=True\n",
    "\n",
    "while(loop):\n",
    "    v = input(\"Say when!\")\n",
    "    if v == \"when!\":\n",
    "        loop = False"
   ]
  },
  {
   "cell_type": "markdown",
   "metadata": {},
   "source": [
    "There are two keywords worth knowing in regards to loops.\n",
    "\n",
    "`break` will immediately end the current loop\n",
    "\n",
    "`continue` will skip to the next iteration, ignoring any remaining code in the current "
   ]
  },
  {
   "cell_type": "code",
   "execution_count": null,
   "metadata": {},
   "outputs": [],
   "source": [
    "for i in range(10):\n",
    "    print(i)\n",
    "    if i % 2 == 1:\n",
    "        break\n",
    "\n",
    "count = 0\n",
    "while True:\n",
    "    count+=1\n",
    "    if count > 3:\n",
    "        break"
   ]
  },
  {
   "cell_type": "code",
   "execution_count": null,
   "metadata": {},
   "outputs": [],
   "source": [
    "for i in range(10):\n",
    "    if i % 2 == 0:\n",
    "        continue\n",
    "    print(i)\n",
    "    "
   ]
  },
  {
   "cell_type": "code",
   "execution_count": null,
   "metadata": {},
   "outputs": [],
   "source": [
    "count = 0\n",
    "\n",
    "while(True):\n",
    "    if count % 2 == 0:\n",
    "        count+=1\n",
    "    else:\n",
    "        pass\n",
    "\n",
    "    if count > 10:\n",
    "        break\n",
    "    else:\n",
    "        count+=1\n",
    "        continue\n",
    "        count+=1\n",
    "    print('count: {}'.format(count))\n",
    "\n",
    "\n",
    "print('count: {}'.format(count))\n"
   ]
  },
  {
   "cell_type": "markdown",
   "metadata": {},
   "source": [
    "## Combining List and Loops"
   ]
  },
  {
   "cell_type": "code",
   "execution_count": null,
   "metadata": {},
   "outputs": [],
   "source": [
    "myL = [1, 2, 3]\n",
    "for value in myL:\n",
    "    print(value)"
   ]
  },
  {
   "cell_type": "code",
   "execution_count": null,
   "metadata": {},
   "outputs": [],
   "source": [
    "myL = [1, 2, 3]\n",
    "for i in range(len(myL)):\n",
    "    print(i, myL[i])"
   ]
  },
  {
   "cell_type": "code",
   "execution_count": null,
   "metadata": {},
   "outputs": [],
   "source": [
    "myL = [1, 2, 3]\n",
    "for i, v in enumerate(myL):\n",
    "    print(i, v)"
   ]
  },
  {
   "cell_type": "markdown",
   "metadata": {},
   "source": [
    "**Programming Practice** Complete the code exercise below by writing a function which given a list and a character, returns a list containing the index of every instance of that character."
   ]
  },
  {
   "cell_type": "code",
   "execution_count": 8,
   "metadata": {},
   "outputs": [
    {
     "name": "stdout",
     "output_type": "stream",
     "text": [
      "0 6\n",
      "1 5\n",
      "2 2\n",
      "2 2\n",
      "3 3\n",
      "4 2\n",
      "4 2\n"
     ]
    },
    {
     "data": {
      "text/plain": [
       "[2, 4]"
      ]
     },
     "execution_count": 8,
     "metadata": {},
     "output_type": "execute_result"
    }
   ],
   "source": [
    "# INPUT:\n",
    "# inList, a list of values\n",
    "# inChar, a value of interest\n",
    "# OUTPUT:\n",
    "# a list containing the index position of all copies of the value of interest\n",
    "\n",
    "def indexChar(inList, inChar):\n",
    "    #Class code here\n",
    "    out = []\n",
    "    for ind, val in enumerate(inList):\n",
    "        print(ind, val)\n",
    "        if val == inChar:\n",
    "            #this is what I want:)\n",
    "            print(ind, val)\n",
    "            out.append(ind)\n",
    "    return out\n",
    "\n",
    "x = [6,5,2,3,2]\n",
    "\n",
    "indexChar(x, 2)\n"
   ]
  },
  {
   "cell_type": "markdown",
   "metadata": {},
   "source": [
    "**Bonus Exercise** Now write a function that given a list and an integer, removes the object stored in the list at multiples of the integer. So if my integer was 2, I would remove the 2nd, 4th, 6th, etc... item. If my integer was 3, I would remove the 3rd, 6th, 9th item."
   ]
  },
  {
   "cell_type": "code",
   "execution_count": null,
   "metadata": {},
   "outputs": [],
   "source": [
    "def removeMultiple(inList, num):\n",
    "    pass"
   ]
  }
 ],
 "metadata": {
  "kernelspec": {
   "display_name": "Python 3 (ipykernel)",
   "language": "python",
   "name": "python3"
  },
  "language_info": {
   "codemirror_mode": {
    "name": "ipython",
    "version": 3
   },
   "file_extension": ".py",
   "mimetype": "text/x-python",
   "name": "python",
   "nbconvert_exporter": "python",
   "pygments_lexer": "ipython3",
   "version": "3.12.2"
  },
  "vscode": {
   "interpreter": {
    "hash": "1a1af0ee75eeea9e2e1ee996c87e7a2b11a0bebd85af04bb136d915cefc0abce"
   }
  }
 },
 "nbformat": 4,
 "nbformat_minor": 4
}
