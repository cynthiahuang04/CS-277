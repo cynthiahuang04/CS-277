{
 "cells": [
  {
   "cell_type": "markdown",
   "metadata": {},
   "source": [
    "## Functions"
   ]
  },
  {
   "cell_type": "markdown",
   "metadata": {},
   "source": [
    "Lets begin by reviewing the core of a function in Python:\n",
    "\n",
    "Functions are reusable blocks of code that perform a specific task (defined by a clear **Input** and **Output**). \n",
    "\n",
    "Functions are defined using the following syntax:\n",
    "\n",
    "```def <fname>(<parameters>):```\n",
    "\n",
    "where `fname` defines how we can call that block of code and `parameters` are locally scoped variables that get passed into the function as input."
   ]
  },
  {
   "cell_type": "code",
   "execution_count": 4,
   "metadata": {},
   "outputs": [],
   "source": [
    "# INPUT:\n",
    "# in1, an input number\n",
    "# in2, an input number\n",
    "# OUTPUT:\n",
    "# The sum of in1 and in2\n",
    "def add_two(in1, in2):\n",
    "    if type(in1) == str:\n",
    "        in1 = int(in1)\n",
    "    elif type(in2) == str:\n",
    "        in2 = int(in2)\n",
    "    return in1 + in2"
   ]
  },
  {
   "cell_type": "markdown",
   "metadata": {},
   "source": [
    "We can use this function in future code snippets by running the cell defining the function and then giving appropriate inputs. \n",
    "\n",
    "**Which of the following are appropriate? Which of the following would crash?**"
   ]
  },
  {
   "cell_type": "code",
   "execution_count": 5,
   "metadata": {},
   "outputs": [
    {
     "name": "stdout",
     "output_type": "stream",
     "text": [
      "6\n",
      "5.2\n"
     ]
    },
    {
     "ename": "ValueError",
     "evalue": "invalid literal for int() with base 10: 'X'",
     "output_type": "error",
     "traceback": [
      "\u001b[0;31m---------------------------------------------------------------------------\u001b[0m",
      "\u001b[0;31mValueError\u001b[0m                                Traceback (most recent call last)",
      "Cell \u001b[0;32mIn[5], line 5\u001b[0m\n\u001b[1;32m      1\u001b[0m \u001b[38;5;28mprint\u001b[39m(add_two(\u001b[38;5;241m1\u001b[39m, \u001b[38;5;241m5\u001b[39m))\n\u001b[1;32m      3\u001b[0m \u001b[38;5;28mprint\u001b[39m(add_two(\u001b[38;5;241m2.2\u001b[39m, \u001b[38;5;241m3\u001b[39m))\n\u001b[0;32m----> 5\u001b[0m \u001b[38;5;28mprint\u001b[39m(add_two(\u001b[38;5;124m\"\u001b[39m\u001b[38;5;124mX\u001b[39m\u001b[38;5;124m\"\u001b[39m, \u001b[38;5;124m\"\u001b[39m\u001b[38;5;124mY\u001b[39m\u001b[38;5;124m\"\u001b[39m))\n\u001b[1;32m      7\u001b[0m \u001b[38;5;28mprint\u001b[39m(add_two(\u001b[38;5;124m\"\u001b[39m\u001b[38;5;124m2\u001b[39m\u001b[38;5;124m\"\u001b[39m, \u001b[38;5;124m\"\u001b[39m\u001b[38;5;124m3\u001b[39m\u001b[38;5;124m\"\u001b[39m))\n\u001b[1;32m      9\u001b[0m \u001b[38;5;28mprint\u001b[39m(add_two(\u001b[38;5;241m1\u001b[39m, \u001b[38;5;124m\"\u001b[39m\u001b[38;5;124m3\u001b[39m\u001b[38;5;124m\"\u001b[39m))\n",
      "Cell \u001b[0;32mIn[4], line 8\u001b[0m, in \u001b[0;36madd_two\u001b[0;34m(in1, in2)\u001b[0m\n\u001b[1;32m      6\u001b[0m \u001b[38;5;28;01mdef\u001b[39;00m \u001b[38;5;21madd_two\u001b[39m(in1, in2):\n\u001b[1;32m      7\u001b[0m     \u001b[38;5;28;01mif\u001b[39;00m \u001b[38;5;28mtype\u001b[39m(in1) \u001b[38;5;241m==\u001b[39m \u001b[38;5;28mstr\u001b[39m:\n\u001b[0;32m----> 8\u001b[0m         in1 \u001b[38;5;241m=\u001b[39m \u001b[38;5;28mint\u001b[39m(in1)\n\u001b[1;32m      9\u001b[0m     \u001b[38;5;28;01melif\u001b[39;00m \u001b[38;5;28mtype\u001b[39m(in2) \u001b[38;5;241m==\u001b[39m \u001b[38;5;28mstr\u001b[39m:\n\u001b[1;32m     10\u001b[0m         in2 \u001b[38;5;241m=\u001b[39m \u001b[38;5;28mint\u001b[39m(in2)\n",
      "\u001b[0;31mValueError\u001b[0m: invalid literal for int() with base 10: 'X'"
     ]
    }
   ],
   "source": [
    "print(add_two(1, 5))\n",
    "\n",
    "print(add_two(2.2, 3))\n",
    "\n",
    "print(add_two(\"X\", \"Y\"))\n",
    "\n",
    "print(add_two(\"2\", \"3\"))\n",
    "\n",
    "print(add_two(1, \"3\"))"
   ]
  },
  {
   "cell_type": "markdown",
   "metadata": {},
   "source": [
    "Although you might think the use case of a function is clear, comments are very important for defining the input and output of a function! Lets look at the example below:"
   ]
  },
  {
   "cell_type": "code",
   "execution_count": 4,
   "metadata": {},
   "outputs": [],
   "source": [
    "def big_red_button(x, y, z):\n",
    "    if x > y:\n",
    "        z = x\n",
    "    else:\n",
    "        z = y\n",
    "    if z > x:\n",
    "        x = z\n",
    "    if z > y:\n",
    "        y = z\n",
    "\n",
    "    print(x, y, z)"
   ]
  },
  {
   "cell_type": "markdown",
   "metadata": {},
   "source": [
    "Seems straightforward enough right? We can pass as input three numbers and the function modifies and prints them. But what if I assume this function takes as input a *string*?"
   ]
  },
  {
   "cell_type": "code",
   "execution_count": 5,
   "metadata": {},
   "outputs": [
    {
     "name": "stdout",
     "output_type": "stream",
     "text": [
      "2 2 2\n",
      "None\n",
      "b b b\n",
      "None evaluates to False in a conditional!\n"
     ]
    }
   ],
   "source": [
    "print(big_red_button(1, 2, 3))\n",
    "\n",
    "x = big_red_button(\"a\", \"b\", \"c\")\n",
    "\n",
    "if x:\n",
    "    print(x)\n",
    "else:\n",
    "    print(\"None evaluates to False in a conditional!\")"
   ]
  },
  {
   "cell_type": "markdown",
   "metadata": {},
   "source": [
    "It still works! Strings can be compared against each other much like numbers can (string comparisons use **lexicographic ordering** -- look it up or ask on Discord / in person if you are interested!)"
   ]
  },
  {
   "cell_type": "code",
   "execution_count": 6,
   "metadata": {},
   "outputs": [
    {
     "name": "stdout",
     "output_type": "stream",
     "text": [
      "3 3 3\n",
      "None\n",
      "1 3 2\n"
     ]
    }
   ],
   "source": [
    "x = 1\n",
    "y = 3\n",
    "z = 2\n",
    "print(big_red_button(x, y, z))\n",
    "\n",
    "print(x, y, z)"
   ]
  },
  {
   "cell_type": "code",
   "execution_count": 11,
   "metadata": {},
   "outputs": [],
   "source": [
    "# INPUT:\n",
    "# x, an int number\n",
    "# y, an input number\n",
    "# OUTPUT:\n",
    "# The maximum number as a float\n",
    "def max(x, y):\n",
    "    if x > y:\n",
    "        return float(x)\n",
    "        print(\"Somegthing else happends here\")\n",
    "    return y"
   ]
  },
  {
   "cell_type": "code",
   "execution_count": 1,
   "metadata": {},
   "outputs": [
    {
     "name": "stdout",
     "output_type": "stream",
     "text": [
      "5 7\n"
     ]
    }
   ],
   "source": [
    "# INPUT:\n",
    "# x, an int number\n",
    "# y, an input number\n",
    "# OUTPUT:\n",
    "# None\n",
    "# Instead swap the value of x and y\n",
    "def swap(x, y):\n",
    "    temp = x\n",
    "    x = y\n",
    "    y = temp\n",
    "\n",
    "x = 5\n",
    "y = 7\n",
    "swap(x, y)\n"
   ]
  },
  {
   "cell_type": "code",
   "execution_count": null,
   "metadata": {},
   "outputs": [],
   "source": []
  },
  {
   "cell_type": "code",
   "execution_count": 9,
   "metadata": {},
   "outputs": [
    {
     "name": "stdout",
     "output_type": "stream",
     "text": [
      "5 10\n"
     ]
    }
   ],
   "source": [
    "x = 5\n",
    "y = 10\n",
    "swap(x, y)\n",
    "\n",
    "print(x, y)"
   ]
  },
  {
   "cell_type": "markdown",
   "metadata": {},
   "source": [
    "**In Python, its impossible to make this function work!** The x and y *inside* the function are different from the x and y *outside*. \n",
    "\n",
    "This is because of two reasons:\n",
    "\n",
    "1. **Variable Scope**\n",
    "\n",
    "A variable defined inside a function exists only in that function. (More generally, variables exist in different scopes and Python prioritizes the reference based on its scope.)\n",
    "\n",
    "2. **Data Type Mutability**\n",
    "\n",
    "When we change the value of a number, it makes a new variable. (More generally, we can't modify **immutable objects** inside functions)"
   ]
  },
  {
   "cell_type": "markdown",
   "metadata": {},
   "source": [
    "We can see examples of the major scopes below (follow along during class to correct the two errors):"
   ]
  },
  {
   "cell_type": "code",
   "execution_count": null,
   "metadata": {},
   "outputs": [],
   "source": [
    "globalVar = \"Once defined I exist in every cell! (I'm a part of 'main')\"\n",
    "\n",
    "def fake_function(localVar):\n",
    "    localVar = \"I've overwritten the input but it doesnt affect what was passed in!\"\n",
    "\n",
    "fake_function(globalVar)\n",
    "\n",
    "print(localVar)\n",
    "\n",
    "print(globalVar)\n",
    "\n",
    "print = \"a string\"\n",
    "\n",
    "print(\"Oops I accidentally overwrote the built-in function print\")"
   ]
  },
  {
   "cell_type": "markdown",
   "metadata": {},
   "source": [
    "We can observe **data type mutability** below -- when we change the value of an integer, we are actually making an entirely new integer!"
   ]
  },
  {
   "cell_type": "code",
   "execution_count": null,
   "metadata": {},
   "outputs": [],
   "source": [
    "x = 5\n",
    "y = 10\n",
    "\n",
    "print(id(x), id(y))\n",
    "\n",
    "def changeVal(x, y):\n",
    "    x = \"Something else\"\n",
    "    y = 12\n",
    "    print(id(x), id(y))\n",
    "\n",
    "changeVal(x, y)\n"
   ]
  },
  {
   "cell_type": "markdown",
   "metadata": {},
   "source": [
    "Python Functions are more complex than we first discussed. Here are two important points:\n",
    "\n",
    "1. Function inputs can be given by position or by keyword. You must declare all positional arguments first before any keywords!\n",
    "\n",
    "2. Function inputs can be required or optional. To make an optional keyword, just give a default value! Like positional arguments, you must specify all required parameters before defining any optional parameters."
   ]
  },
  {
   "cell_type": "code",
   "execution_count": 6,
   "metadata": {},
   "outputs": [],
   "source": [
    "# INPUT:\n",
    "# Three arguments, two optional and one required\n",
    "# OUTPUT;\n",
    "# The sum of the three inputs\n",
    "\n",
    "# DEFINE HERE\n",
    "\n",
    "def myfunction(x, y = True, z = False): #Class decision: y & z are boolz\n",
    "    return x + y + z"
   ]
  },
  {
   "cell_type": "code",
   "execution_count": 10,
   "metadata": {},
   "outputs": [
    {
     "ename": "TypeError",
     "evalue": "can only concatenate str (not \"bool\") to str",
     "output_type": "error",
     "traceback": [
      "\u001b[0;31m---------------------------------------------------------------------------\u001b[0m",
      "\u001b[0;31mTypeError\u001b[0m                                 Traceback (most recent call last)",
      "Cell \u001b[0;32mIn[10], line 1\u001b[0m\n\u001b[0;32m----> 1\u001b[0m myfunction(\u001b[38;5;124m'\u001b[39m\u001b[38;5;124mHello\u001b[39m\u001b[38;5;124m'\u001b[39m)\n",
      "Cell \u001b[0;32mIn[6], line 9\u001b[0m, in \u001b[0;36mmyfunction\u001b[0;34m(x, y, z)\u001b[0m\n\u001b[1;32m      8\u001b[0m \u001b[38;5;28;01mdef\u001b[39;00m \u001b[38;5;21mmyfunction\u001b[39m(x, y \u001b[38;5;241m=\u001b[39m \u001b[38;5;28;01mTrue\u001b[39;00m, z \u001b[38;5;241m=\u001b[39m \u001b[38;5;28;01mFalse\u001b[39;00m): \u001b[38;5;66;03m#Class decision: y & z are boolz\u001b[39;00m\n\u001b[0;32m----> 9\u001b[0m     \u001b[38;5;28;01mreturn\u001b[39;00m x \u001b[38;5;241m+\u001b[39m y \u001b[38;5;241m+\u001b[39m z\n",
      "\u001b[0;31mTypeError\u001b[0m: can only concatenate str (not \"bool\") to str"
     ]
    }
   ],
   "source": [
    "myfunction('Hello') #bad use example"
   ]
  },
  {
   "cell_type": "code",
   "execution_count": 11,
   "metadata": {},
   "outputs": [
    {
     "data": {
      "text/plain": [
       "'HelloWorld:)'"
      ]
     },
     "execution_count": 11,
     "metadata": {},
     "output_type": "execute_result"
    }
   ],
   "source": [
    "myfunction('Hello', \"World\", \":)\")"
   ]
  },
  {
   "cell_type": "code",
   "execution_count": 8,
   "metadata": {},
   "outputs": [
    {
     "data": {
      "text/plain": [
       "6"
      ]
     },
     "execution_count": 8,
     "metadata": {},
     "output_type": "execute_result"
    }
   ],
   "source": [
    "myfunction(5) #True = 1, False = 0"
   ]
  },
  {
   "cell_type": "markdown",
   "metadata": {},
   "source": [
    "String formatting is a core part of data science. Here we will see several different methods of creating precise string formatting"
   ]
  },
  {
   "cell_type": "code",
   "execution_count": 13,
   "metadata": {},
   "outputs": [
    {
     "name": "stdout",
     "output_type": "stream",
     "text": [
      "Brad says 2 + 2 = 5\n",
      "Brad says 2 + 2 = 5\n",
      "Brad says 5 + 2 = 2\n",
      "Brad says 2 + 2 = 5\n",
      "Brad says 2.00 + 002 = 5\n"
     ]
    }
   ],
   "source": [
    "x = 2\n",
    "y = 2\n",
    "ans = 5\n",
    "\n",
    "print(\"Brad says \" + str(x) + \" + \" + str(y) + \" = \" + str(ans))\n",
    "\n",
    "print(\"Brad says {} + {} = {}\".format(x, y, ans))\n",
    "\n",
    "print(\"Brad says {2} + {1} = {1}\".format(x, y, ans))\n",
    "\n",
    "print(f\"Brad says {x} + {y} = {ans}\")\n",
    "\n",
    "print(f\"Brad says {x:.2f} + {y:03} = {ans}\")\n"
   ]
  },
  {
   "cell_type": "code",
   "execution_count": 15,
   "metadata": {},
   "outputs": [],
   "source": [
    "# INPUT:\n",
    "# Three input numbers (x, y, z)\n",
    "# Output:\n",
    "# A CSV line containing the three values\n",
    "def CSV_hardcoded(x, y, z):\n",
    "    pass"
   ]
  },
  {
   "cell_type": "code",
   "execution_count": 17,
   "metadata": {},
   "outputs": [
    {
     "data": {
      "text/plain": [
       "'1, 2, 3'"
      ]
     },
     "execution_count": 17,
     "metadata": {},
     "output_type": "execute_result"
    }
   ],
   "source": [
    "# INPUT:\n",
    "# Three input numbers (x, y, z)\n",
    "# Output:\n",
    "# A CSV line containing the three values\n",
    "def CSV_format(x, y, z):\n",
    "    return \"{}, {}, {}\".format(x, y, z)\n",
    "\n",
    "CSV_format(1, 2, 3)"
   ]
  },
  {
   "cell_type": "code",
   "execution_count": null,
   "metadata": {},
   "outputs": [],
   "source": [
    "# INPUT:\n",
    "# Three input numbers (x, y, z)\n",
    "# Output:\n",
    "# A CSV line containing the three values\n",
    "def CSV_fstring(x, y, z):\n",
    "    pass"
   ]
  },
  {
   "cell_type": "markdown",
   "metadata": {},
   "source": [
    "Lets practice string formatting below!"
   ]
  },
  {
   "cell_type": "code",
   "execution_count": null,
   "metadata": {},
   "outputs": [],
   "source": [
    "# Autograder example"
   ]
  }
 ],
 "metadata": {
  "kernelspec": {
   "display_name": "Python 3 (ipykernel)",
   "language": "python",
   "name": "python3"
  },
  "language_info": {
   "codemirror_mode": {
    "name": "ipython",
    "version": 3
   },
   "file_extension": ".py",
   "mimetype": "text/x-python",
   "name": "python",
   "nbconvert_exporter": "python",
   "pygments_lexer": "ipython3",
   "version": "3.12.2"
  }
 },
 "nbformat": 4,
 "nbformat_minor": 4
}
