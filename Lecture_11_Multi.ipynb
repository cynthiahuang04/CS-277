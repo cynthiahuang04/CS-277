{
 "cells": [
  {
   "cell_type": "markdown",
   "metadata": {},
   "source": [
    "**Multi-Dimensional Lists** Multi-dimensional lists are very useful for data manipulation and analysis. Many modules in Python exist (NumPy, Pandas, ...) to assist with this but its always a good idea to understand how to use built-in Python as well!"
   ]
  },
  {
   "cell_type": "code",
   "execution_count": 22,
   "metadata": {},
   "outputs": [],
   "source": [
    "def makeMatrix():\n",
    "    r1 = [7, 8, 9]\n",
    "    r2 = [4, 5, 6]\n",
    "    r3 = [1, 2, 3]\n",
    "    return [r1, r2, r3]"
   ]
  },
  {
   "cell_type": "markdown",
   "metadata": {},
   "source": [
    "**Programming Practice:** Write a Python function that takes as input a 2D list and searches the list for a specific value"
   ]
  },
  {
   "cell_type": "code",
   "execution_count": 31,
   "metadata": {},
   "outputs": [],
   "source": [
    "def search2D(list, value):\n",
    "    for i in range(len(list)):\n",
    "        for j in range(len(list[i])):\n",
    "            if list[i][j]==value:\n",
    "                return i, j\n",
    "    return -1, -1"
   ]
  },
  {
   "cell_type": "code",
   "execution_count": 32,
   "metadata": {},
   "outputs": [
    {
     "name": "stdout",
     "output_type": "stream",
     "text": [
      "(1, 0)\n",
      "(-1, -1)\n"
     ]
    }
   ],
   "source": [
    "myList = [[1, 2, 3], [4, 5, 6], [7, 8, 9]]\n",
    "print(search2D(myList, 4))\n",
    "print(search2D(myList, 'A'))"
   ]
  },
  {
   "cell_type": "markdown",
   "metadata": {},
   "source": [
    "**Programming Practice:** Write a Python function that takes as input a 2D list and returns a copy of that list."
   ]
  },
  {
   "cell_type": "code",
   "execution_count": 35,
   "metadata": {},
   "outputs": [],
   "source": [
    "def dup2D(list):\n",
    "    for i in range(len(list)):\n",
    "        for j in range(len(list[i])):\n",
    "            list[i][j] *= 2\n",
    "    return list\n",
    "    "
   ]
  },
  {
   "cell_type": "code",
   "execution_count": 44,
   "metadata": {},
   "outputs": [
    {
     "name": "stdout",
     "output_type": "stream",
     "text": [
      "[[2, 4, 6], [8, 10, 12]] [[2, 4, 6], [8, 10, 12]]\n",
      "[['A', 4, 6], [8, 10, 12]] [['A', 4, 6], [8, 10, 12]] [['A', 4, 6], [8, 10, 12]]\n"
     ]
    }
   ],
   "source": [
    "x = [[1, 2, 3], [4, 5, 6]]\n",
    "y = dup2D(x)\n",
    "z = x.copy()\n",
    "\n",
    "print(x, y)\n",
    "y[0][0]=\"A\"\n",
    "print(x, y, z)"
   ]
  },
  {
   "cell_type": "markdown",
   "metadata": {},
   "source": [
    "**Copying a matrix** A common mistake in using a multi-dimensional list is creating a *shallow* copy of the list."
   ]
  },
  {
   "cell_type": "code",
   "execution_count": null,
   "metadata": {},
   "outputs": [],
   "source": [
    "import copy\n",
    "\n",
    "orig = [ [1,2,3], [4, 5, 6]]\n",
    "not_copy = orig\n",
    "s_copy = orig[:]\n",
    "d_copy = copy.deepcopy(orig)\n",
    "\n",
    "orig[1][1]=9\n",
    "not_copy[0][0]=8\n",
    "s_copy[0][2]=7\n",
    "d_copy[1][2]=10\n",
    "\n",
    "print(orig)\n",
    "print(not_copy)\n",
    "print(s_copy)\n",
    "print(d_copy)\n"
   ]
  },
  {
   "cell_type": "code",
   "execution_count": null,
   "metadata": {},
   "outputs": [],
   "source": [
    "def doubleAppend(inList):\n",
    "    return [inList, inList]\n",
    "\n",
    "x = doubleAppend([1, 2, 3])\n",
    "x[0][0]=9\n",
    "print(x)"
   ]
  },
  {
   "cell_type": "markdown",
   "metadata": {},
   "source": [
    "**Don't do this when copying multi-dimensional lists:**"
   ]
  },
  {
   "cell_type": "code",
   "execution_count": null,
   "metadata": {},
   "outputs": [],
   "source": [
    "l1 = [ [1, 2], [3, 4] ]\n",
    "l2 = l1[:]\n",
    "l3 = l1.copy()\n",
    "\n",
    "l4 = []\n",
    "\n",
    "for i in l1:\n",
    "    l4.append(i)\n",
    "\n",
    "l1[0][0]=9\n",
    "\n",
    "print(l1, \"*\", l2, \"*\",l3, \"*\",l4)\n",
    "\n"
   ]
  },
  {
   "cell_type": "markdown",
   "metadata": {},
   "source": [
    "**Instead do one of these:**"
   ]
  },
  {
   "cell_type": "code",
   "execution_count": null,
   "metadata": {},
   "outputs": [],
   "source": [
    "import copy\n",
    "import numpy as np\n",
    "\n",
    "l1 = [ [1, 2], [3, 4] ]\n",
    "l2 = copy.deepcopy(l1)\n",
    "\n",
    "l3 = []\n",
    "for row in l1:\n",
    "    tmp = []\n",
    "    for val in row:\n",
    "        tmp.append(val)\n",
    "    l3.append(tmp)\n",
    "\n",
    "l4 = np.array(l1)\n",
    "\n",
    "l1[0][0]=9\n",
    "\n",
    "print(l1, \"*\", l2, \"*\", l3, \"*\",l4)\n"
   ]
  },
  {
   "cell_type": "markdown",
   "metadata": {},
   "source": [
    "### Numpy"
   ]
  },
  {
   "cell_type": "code",
   "execution_count": 10,
   "metadata": {},
   "outputs": [],
   "source": [
    "import numpy as np"
   ]
  },
  {
   "cell_type": "code",
   "execution_count": null,
   "metadata": {},
   "outputs": [],
   "source": [
    "print(np.shape([0])) # (1,)\n",
    "\n",
    "print(np.shape([[1,2,3],[4,5,6]])) # (2, 3)\n",
    "\n",
    "myList = []\n",
    "for i in range(6):\n",
    "    temp = []\n",
    "    for j in range(3):\n",
    "        temp.append(j)\n",
    "    myList.append(temp)\n",
    "\n",
    "print(np.shape(myList))\n",
    "\n",
    "x = np.zeros([5,2])\n",
    "print(x)\n",
    "print(np.shape(x)) # (5, 2)"
   ]
  },
  {
   "cell_type": "code",
   "execution_count": null,
   "metadata": {},
   "outputs": [],
   "source": [
    "myArray = np.zeros([1,5])\n",
    "print(myArray)"
   ]
  },
  {
   "cell_type": "code",
   "execution_count": null,
   "metadata": {},
   "outputs": [],
   "source": [
    "myArray = np.ones([2,2])\n",
    "print(myArray)"
   ]
  },
  {
   "cell_type": "code",
   "execution_count": null,
   "metadata": {},
   "outputs": [],
   "source": [
    "myArray = np.empty([3,2,1])\n",
    "print(myArray)"
   ]
  },
  {
   "cell_type": "code",
   "execution_count": null,
   "metadata": {},
   "outputs": [],
   "source": [
    "myArray = np.full([3,2,1], None)\n",
    "print(myArray)"
   ]
  },
  {
   "cell_type": "code",
   "execution_count": null,
   "metadata": {},
   "outputs": [],
   "source": [
    "myArray = np.linspace(0, 9, 10)\n",
    "print(myArray)\n",
    "reshape = np.reshape(myArray,[2,5])\n",
    "print(reshape)"
   ]
  },
  {
   "cell_type": "code",
   "execution_count": null,
   "metadata": {},
   "outputs": [],
   "source": [
    "a1 = np.zeros([3,3])\n",
    "a2 = np.linspace(0,8, 9).reshape([3,3])\n",
    "a1 += 5\n",
    "\n",
    "print(a1)\n",
    "\n",
    "print(a1+a2)\n"
   ]
  },
  {
   "cell_type": "code",
   "execution_count": null,
   "metadata": {},
   "outputs": [],
   "source": [
    "myArray = np.linspace(0, 9, 10)\n",
    "greater = myArray[myArray > 4]\n",
    "print(greater)\n"
   ]
  },
  {
   "cell_type": "code",
   "execution_count": null,
   "metadata": {},
   "outputs": [],
   "source": [
    "myArray = np.linspace(0, 9, 10)\n",
    "slice = myArray[1:4]\n",
    "slice[0]=12\n",
    "print(myArray)"
   ]
  },
  {
   "cell_type": "markdown",
   "metadata": {},
   "source": [
    "Here are some other useful NumPy functions in action!"
   ]
  },
  {
   "cell_type": "code",
   "execution_count": null,
   "metadata": {},
   "outputs": [],
   "source": [
    "nl = np.arange(4).reshape(2, 2)\n",
    "nl2 = nl * 2\n",
    "\n",
    "# Matrix multiplication\n",
    "# 0*0+1*4     0*0+1*6\n",
    "# 2*0+3*4     2*2+3*6\n",
    "print(nl.dot(nl2))\n",
    "\n",
    "# Unique items\n",
    "x = np.array([1, 1, 1, 2, 3, 4, 4, 5, 5, 6])\n",
    "print(np.unique(x))\n"
   ]
  },
  {
   "cell_type": "code",
   "execution_count": 7,
   "metadata": {},
   "outputs": [
    {
     "data": {
      "text/plain": [
       "[1, 2, 4, 5, 6, 7]"
      ]
     },
     "execution_count": 7,
     "metadata": {},
     "output_type": "execute_result"
    }
   ],
   "source": [
    "l = [1, 2, 3, 4, 5, 6, 7]\n",
    "l.remove(3)\n",
    "l"
   ]
  },
  {
   "cell_type": "code",
   "execution_count": 3,
   "metadata": {},
   "outputs": [
    {
     "data": {
      "text/plain": [
       "4"
      ]
     },
     "execution_count": 3,
     "metadata": {},
     "output_type": "execute_result"
    }
   ],
   "source": [
    "l.pop(3)"
   ]
  },
  {
   "cell_type": "code",
   "execution_count": 4,
   "metadata": {},
   "outputs": [
    {
     "data": {
      "text/plain": [
       "5"
      ]
     },
     "execution_count": 4,
     "metadata": {},
     "output_type": "execute_result"
    }
   ],
   "source": [
    "l.pop(3)"
   ]
  },
  {
   "cell_type": "code",
   "execution_count": 5,
   "metadata": {},
   "outputs": [
    {
     "data": {
      "text/plain": [
       "[1, 2, 3, 6]"
      ]
     },
     "execution_count": 5,
     "metadata": {},
     "output_type": "execute_result"
    }
   ],
   "source": [
    "l"
   ]
  },
  {
   "cell_type": "code",
   "execution_count": 8,
   "metadata": {},
   "outputs": [
    {
     "name": "stdout",
     "output_type": "stream",
     "text": [
      "0\n",
      "1\n",
      "2\n"
     ]
    }
   ],
   "source": [
    "for i in range(3):\n",
    "    print(i)\n",
    "    "
   ]
  },
  {
   "cell_type": "code",
   "execution_count": 19,
   "metadata": {},
   "outputs": [
    {
     "data": {
      "text/plain": [
       "[[0, 1, 2], [1, 2, 3], [2, 3, 4]]"
      ]
     },
     "execution_count": 19,
     "metadata": {},
     "output_type": "execute_result"
    }
   ],
   "source": [
    "outerList = []\n",
    "for i in range(3):\n",
    "    innerList = []\n",
    "    for j in range(3):\n",
    "        innerList.append(i+j)\n",
    "    outerList.append(innerList)\n",
    "outerList"
   ]
  },
  {
   "cell_type": "code",
   "execution_count": 47,
   "metadata": {},
   "outputs": [
    {
     "data": {
      "text/plain": [
       "array([[0., 0., 0., 0., 0.]])"
      ]
     },
     "execution_count": 47,
     "metadata": {},
     "output_type": "execute_result"
    }
   ],
   "source": [
    "import numpy as np\n",
    "x = np.zeros([1, 5])\n",
    "x"
   ]
  },
  {
   "cell_type": "code",
   "execution_count": 51,
   "metadata": {},
   "outputs": [
    {
     "data": {
      "text/plain": [
       "array([[1., 1.],\n",
       "       [1., 1.]])"
      ]
     },
     "execution_count": 51,
     "metadata": {},
     "output_type": "execute_result"
    }
   ],
   "source": [
    "x = np.ones([2, 2])\n",
    "x"
   ]
  },
  {
   "cell_type": "code",
   "execution_count": 52,
   "metadata": {},
   "outputs": [
    {
     "data": {
      "text/plain": [
       "array([[8, 8, 8, 8, 8, 8, 8, 8],\n",
       "       [8, 8, 8, 8, 8, 8, 8, 8],\n",
       "       [8, 8, 8, 8, 8, 8, 8, 8],\n",
       "       [8, 8, 8, 8, 8, 8, 8, 8],\n",
       "       [8, 8, 8, 8, 8, 8, 8, 8],\n",
       "       [8, 8, 8, 8, 8, 8, 8, 8],\n",
       "       [8, 8, 8, 8, 8, 8, 8, 8],\n",
       "       [8, 8, 8, 8, 8, 8, 8, 8]])"
      ]
     },
     "execution_count": 52,
     "metadata": {},
     "output_type": "execute_result"
    }
   ],
   "source": [
    "x = np.full([8, 8], 8)\n",
    "x"
   ]
  },
  {
   "cell_type": "code",
   "execution_count": null,
   "metadata": {},
   "outputs": [],
   "source": []
  }
 ],
 "metadata": {
  "kernelspec": {
   "display_name": "Python 3 (ipykernel)",
   "language": "python",
   "name": "python3"
  },
  "language_info": {
   "codemirror_mode": {
    "name": "ipython",
    "version": 3
   },
   "file_extension": ".py",
   "mimetype": "text/x-python",
   "name": "python",
   "nbconvert_exporter": "python",
   "pygments_lexer": "ipython3",
   "version": "3.12.2"
  }
 },
 "nbformat": 4,
 "nbformat_minor": 4
}
