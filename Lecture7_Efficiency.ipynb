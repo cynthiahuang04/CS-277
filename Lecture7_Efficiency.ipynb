{
 "cells": [
  {
   "cell_type": "markdown",
   "metadata": {},
   "source": [
    "When measuring code efficiency, there are two main metrics -- **time** and **memory** use. We can observe both in Python using built-in methods."
   ]
  },
  {
   "cell_type": "markdown",
   "metadata": {},
   "source": [
    "The **Tracemalloc** package allows us to track memory usage in a Python program through a variety of means. Here we will see examples of two different measurements: peak memory usage over a range of code and top memory usage at a specific snapshot. "
   ]
  },
  {
   "cell_type": "code",
   "execution_count": null,
   "metadata": {},
   "outputs": [],
   "source": [
    "import tracemalloc\n",
    "\n",
    "tracemalloc.start()\n",
    "\n",
    "#import matplotlib # 15405850 15423797\n",
    "\n",
    "#import pandas # #15353162 15387474\n",
    "\n",
    "current, peak = tracemalloc.get_traced_memory() \n",
    "\n",
    "print(current, peak)\n",
    "\n",
    "tracemalloc.stop()"
   ]
  },
  {
   "cell_type": "markdown",
   "metadata": {},
   "source": [
    "If we rerun the above cell, we will get a much smaller peak memory -- why? \n",
    "\n",
    "Tracemalloc is only recording the memory used from start() to the get_traced_memory() call! And once a package has been imported, it will remain in memory until we restart the entire Python notebook or force the package to reload through a more complex import command. \n",
    "\n",
    "What is the takeaway here? Tracemalloc is useful for debugging or assessing efficiency of your code but only if you implement it in such a way that it will catch the actual memory usage of your program!"
   ]
  },
  {
   "cell_type": "code",
   "execution_count": null,
   "metadata": {},
   "outputs": [],
   "source": [
    "tracemalloc.start()\n",
    "\n",
    "a = [1] * 10000  \n",
    "b = [2] * 20000  \n",
    "c = []\n",
    "\n",
    "for i in range(30000):\n",
    "    c.append(i)\n",
    "\n",
    "# Get the current memory usage snapshot\n",
    "snapshot = tracemalloc.take_snapshot()\n",
    "\n",
    "top_stats = snapshot.statistics('lineno')\n",
    "for stat in top_stats[:5]:\n",
    "    print(stat)\n",
    "\n",
    "# Stop memory tracking (optional)\n",
    "tracemalloc.stop()\n"
   ]
  },
  {
   "cell_type": "markdown",
   "metadata": {},
   "source": [
    "Lets break down the above output:\n",
    "\n",
    "* **/path/to/your/script.py:<line_number>** This is the file path and line number where memory was allocated.\n",
    "\n",
    "* **size=X** (B, KiB, etc...): This indicates that X bytes of memory were allocated on that particular line or allocation unit.\n",
    "\n",
    "* **count= Y** The number of memory allocations that occurred at this line (or allocation unit). In most cases, only one memory allocation will occur but occassionally -- such as in loops -- a line can be repeated more than once.\n",
    "\n",
    "* **average= Z** The average size of memory allocated at this line. When only one allocation occurred, the average will always be the same as the size."
   ]
  },
  {
   "cell_type": "markdown",
   "metadata": {},
   "source": [
    "The **time** package allows us to measure the time taken between lines of code"
   ]
  },
  {
   "cell_type": "code",
   "execution_count": null,
   "metadata": {},
   "outputs": [],
   "source": [
    "import time\n",
    "current_time = time.time()\n",
    "print(current_time)"
   ]
  },
  {
   "cell_type": "code",
   "execution_count": null,
   "metadata": {},
   "outputs": [],
   "source": [
    "import random\n",
    "\n",
    "def timeWaste():\n",
    "    stall_time = random.randint(1, 5)\n",
    "    print(\"Wasting {} time\".format(stall_time))\n",
    "    time.sleep(stall_time)\n",
    "\n",
    "# I record clock at start\n",
    "start = time.time()\n",
    "\n",
    "for i in range(5):\n",
    "    timeWaste()\n",
    "\n",
    "# I record clock at end\n",
    "end = time.time()\n",
    "\n",
    "print(\"I wasted {} time total.\".format(end-start))"
   ]
  },
  {
   "cell_type": "markdown",
   "metadata": {},
   "source": [
    "## Exam 0 Review content"
   ]
  },
  {
   "cell_type": "code",
   "execution_count": null,
   "metadata": {},
   "outputs": [],
   "source": [
    "A = True\n",
    "B = False\n",
    "C = True\n",
    "D = True\n",
    "\n",
    "if A and B:\n",
    "    print(\"A and B\")\n",
    "elif C and not A:\n",
    "    print(\"C and not A\")\n",
    "else:\n",
    "    print(\"not (A and B) and not (C and not A)\")\n",
    "if C:\n",
    "    print(\"C\")\n",
    "elif D:\n",
    "    print(\"D\")\n",
    "else:\n",
    "    print(\"not C and not D\")\n",
    "if A:\n",
    "    print(\"A\")\n",
    "if B:\n",
    "    print(\"B\")\n",
    "else:\n",
    "    print(\"not B\")\n",
    "if C:\n",
    "    print(\"C\")\n",
    "print(\"Always\")"
   ]
  },
  {
   "cell_type": "code",
   "execution_count": null,
   "metadata": {},
   "outputs": [],
   "source": [
    "A = True\n",
    "B = False\n",
    "C = True\n",
    "D = True\n",
    "\n",
    "if A:\n",
    "    if B:\n",
    "        if C:\n",
    "            print(\"ABC\")\n",
    "        print(\"AB not C\")\n",
    "    print(\"A not B\")\n",
    "\n",
    "if D:\n",
    "    if A:\n",
    "        print(\"D and A\")\n",
    "    else:\n",
    "        print(\"D and not A\")\n",
    "        if B or C:\n",
    "            print(\"D, not A, B or C\")\n",
    "    if C:\n",
    "        print(\"D and C, A not relevant\")"
   ]
  },
  {
   "cell_type": "code",
   "execution_count": null,
   "metadata": {},
   "outputs": [],
   "source": [
    "#INPUT: \n",
    "# An integer x storing the number of rows in the string\n",
    "#OUTPUT:\n",
    "# None,\n",
    "# Instead print a triangle of numbers:\n",
    "# The first row will include the numbers 1 through x inclusive\n",
    "# The second row will include the numbers 1 through x-1 inclusive\n",
    "# This will continue until the last row which just prints 1\n",
    "def numberTriangle(x): \n",
    "    pass"
   ]
  },
  {
   "cell_type": "code",
   "execution_count": null,
   "metadata": {},
   "outputs": [],
   "source": [
    "numberTriangle(3)\n",
    "\n",
    "'''\n",
    "123\n",
    "12\n",
    "1\n",
    "'''\n",
    "\n",
    "print()"
   ]
  },
  {
   "cell_type": "code",
   "execution_count": null,
   "metadata": {},
   "outputs": [],
   "source": [
    "#INPUT: \n",
    "# An integer x \n",
    "#OUTPUT:\n",
    "# An integer storing the number of digits in x. (Negative signs arent digits)\n",
    "def countDigits(x):\n",
    "    pass"
   ]
  },
  {
   "cell_type": "code",
   "execution_count": null,
   "metadata": {},
   "outputs": [],
   "source": [
    "countDigits(55) # 2"
   ]
  },
  {
   "cell_type": "code",
   "execution_count": null,
   "metadata": {},
   "outputs": [],
   "source": [
    "#INPUT: \n",
    "# l1, a list of numbers representing values\n",
    "# l2, a list of numbers representing indices\n",
    "#OUTPUT:\n",
    "# The sum of every value in l1 indexed in l2\n",
    "def sum_by_index(l1, l2):\n",
    "    pass"
   ]
  },
  {
   "cell_type": "code",
   "execution_count": null,
   "metadata": {},
   "outputs": [],
   "source": [
    "sum_by_index(list(range(6)), [0, 1, 3]) # 4"
   ]
  }
 ],
 "metadata": {
  "kernelspec": {
   "display_name": "base",
   "language": "python",
   "name": "python3"
  },
  "language_info": {
   "codemirror_mode": {
    "name": "ipython",
    "version": 3
   },
   "file_extension": ".py",
   "mimetype": "text/x-python",
   "name": "python",
   "nbconvert_exporter": "python",
   "pygments_lexer": "ipython3",
   "version": "3.9.13"
  }
 },
 "nbformat": 4,
 "nbformat_minor": 4
}
