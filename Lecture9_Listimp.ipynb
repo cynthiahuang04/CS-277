{
 "cells": [
  {
   "cell_type": "markdown",
   "metadata": {},
   "source": [
    "### Class Objects"
   ]
  },
  {
   "cell_type": "markdown",
   "metadata": {},
   "source": [
    "A Python class is a blueprint describing some new object as a collection of **attributes** (variables belonging to the class as a whole or individual objects) as well as **methods** (functions associated with the class). You've been using these from the start! For example:\n",
    "\n",
    "There is a class for strings, which includes definitions for functions like `__add__()` (allowing us to use `+`) or `split()` (parsing a string into a collection of substrings)!\n",
    "There is a class for patches and every patch used in matplotlib is associated with a method.\n",
    "As we will soon see, we can write our own class for lists -- or use the built-in one!\n",
    "\n",
    "But before we can explore that lets see a practical example:"
   ]
  },
  {
   "cell_type": "code",
   "execution_count": 1,
   "metadata": {},
   "outputs": [],
   "source": [
    "class Circle:\n",
    "    pi = 3.14\n",
    "\n",
    "    #self is how I know this is a class\n",
    "    \n",
    "    def __init__(self,r, x, y, c=\"Black\"):\n",
    "        self.radius = r\n",
    "        self.color = c\n",
    "        self.xpos, self.ypos = x, y\n",
    "\n",
    "    def __eq__(self, other):\n",
    "        return (self is other) \n",
    "\n",
    "    def circumference(self):\n",
    "        return 2 * Circle.pi * self.radius\n",
    "        \n",
    "    def area(self):\n",
    "        return Circle.pi * (self.radius)**2"
   ]
  },
  {
   "cell_type": "code",
   "execution_count": 2,
   "metadata": {},
   "outputs": [
    {
     "name": "stdout",
     "output_type": "stream",
     "text": [
      "c1, c2, c3\n",
      "1, 2, 1\n",
      "0, 0, 0\n",
      "Red, Blue, Red\n",
      "False\n",
      "1, 3\n",
      "Red, Pink\n",
      "3.14 12.56\n",
      "3 12\n"
     ]
    }
   ],
   "source": [
    "Circle.pi = 3.14\n",
    "c1 = Circle(1, 0, 0, \"Red\")\n",
    "c2 = Circle(2, 0, 0, c=\"Blue\")\n",
    "c3 = Circle(1, 0, 0, \"Red\")\n",
    "\n",
    "print(\"c1, c2, c3\")\n",
    "print(f\"{c1.radius}, {c2.radius}, {c3.radius}\")\n",
    "print(f\"{c1.xpos}, {c2.xpos}, {c3.xpos}\")\n",
    "print(f\"{c1.color}, {c2.color}, {c3.color}\")\n",
    "\n",
    "print(c1 is c3)\n",
    "\n",
    "c3.color = \"Pink\"\n",
    "c3.radius=3\n",
    "\n",
    "print(f\"{c1.radius}, {c3.radius}\")\n",
    "print(f\"{c1.color}, {c3.color}\")\n",
    "\n",
    "print(c1.area(), c2.area())\n",
    "Circle.pi = 3\n",
    "print(c1.area(), c2.area())"
   ]
  },
  {
   "cell_type": "markdown",
   "metadata": {},
   "source": [
    "### Linked List Implementation"
   ]
  },
  {
   "attachments": {},
   "cell_type": "markdown",
   "metadata": {},
   "source": [
    "**Linked List Node:** A linked list is constructed from a collection of individual nodes. Each node has its specific data variable but also tracks the next item in the chain. In lecture we will implement this using a class as follows."
   ]
  },
  {
   "cell_type": "code",
   "execution_count": 6,
   "metadata": {},
   "outputs": [
    {
     "name": "stdout",
     "output_type": "stream",
     "text": [
      "7\n"
     ]
    }
   ],
   "source": [
    "class Node:\n",
    "    def __init__(self, data, next=None):\n",
    "        self.data = data\n",
    "        self.next = next\n",
    "\n",
    "n1 = Node(3)\n",
    "n2 = Node(5)\n",
    "n3 = Node(7)\n",
    "\n",
    "n1.next = n2\n",
    "n2.next = n3\n",
    "\n",
    "curr = n1\n",
    "print(curr.next.next.data)"
   ]
  },
  {
   "cell_type": "code",
   "execution_count": 12,
   "metadata": {},
   "outputs": [
    {
     "name": "stdout",
     "output_type": "stream",
     "text": [
      "1\n",
      "2\n",
      "3\n",
      "end\n"
     ]
    }
   ],
   "source": [
    "my_list = [1, 2, 3]\n",
    "my_iterator = iter(my_list)\n",
    "\n",
    "print(next(my_iterator))  # Output: 1\n",
    "print(next(my_iterator))  # Output: 2\n",
    "print(next(my_iterator))  # Output: 3\n",
    "\n",
    "# If we call next() again, it will raise StopIteration because the iterator is exhausted.\n",
    "# To avoid this, we can provide a default value:\n",
    "print(next(my_iterator, \"end\")) # Output: end"
   ]
  },
  {
   "attachments": {},
   "cell_type": "markdown",
   "metadata": {},
   "source": [
    "**Linked List** We covered more than the five required functions for a list ADT, but each function here has some useful insights or were good to practice with. While the first two are already complete, you are encouraged to fill in the rest yourself following along with the class lecture!"
   ]
  },
  {
   "cell_type": "code",
   "execution_count": 27,
   "metadata": {},
   "outputs": [],
   "source": [
    "class linkedList:\n",
    "    def __init__(self, head=None):\n",
    "        self.head = head\n",
    "\n",
    "    def __str__(self):\n",
    "        curr = self.head\n",
    "        out=\"[\"\n",
    "        while(curr):\n",
    "            out+=\"{},\".format(curr.data)\n",
    "            curr = curr.next\n",
    "        if out[-1]==\",\":\n",
    "            out = out[:-1]\n",
    "        out = out +\"]\\n\"\n",
    "        return out\n",
    "\n",
    "    def __len__(self):\n",
    "        i = 0\n",
    "        curr = self.head\n",
    "        while(curr):\n",
    "            curr = curr.next\n",
    "            i+=1\n",
    "        return i\n",
    "\n",
    "    def __getitem__(self, pos):\n",
    "        #I need to define some temporary variables that I can use\n",
    "        #to walk through the list\n",
    "        \n",
    "        curr = self.head(1)\n",
    "\n",
    "        i = 0\n",
    "        \n",
    "        while (curr and i < pos):\n",
    "            #when do i want to do this/how often?\n",
    "            curr = curr.next\n",
    "            print(f'i == {i}, data = {curr.data}')\n",
    "            i += 1\n",
    "\n",
    "        return curr\n",
    "            \n",
    "    def add(self, data):\n",
    "        pass\n",
    "\n",
    "    def insert(self, data, pos=0):\n",
    "        if (pos == 0):\n",
    "            self.add(data)\n",
    "        else:\n",
    "            prev = self.__getitem__(pos-1)\n",
    "            temp = prev.next\n",
    "            prev.next = Node(data, temp)\n",
    "\n",
    "    def delete(self, i):\n",
    "        pass\n",
    "\n",
    "    def remove(self, data): \n",
    "        pass\n",
    "\n",
    "    def find(self, data):\n",
    "        return None"
   ]
  },
  {
   "attachments": {},
   "cell_type": "markdown",
   "metadata": {},
   "source": [
    "These are just some run examples that are similar or identical to those shown in class."
   ]
  },
  {
   "cell_type": "code",
   "execution_count": 30,
   "metadata": {},
   "outputs": [
    {
     "name": "stdout",
     "output_type": "stream",
     "text": [
      "[]\n",
      "\n"
     ]
    }
   ],
   "source": [
    "# add\n",
    "ll = linkedList()\n",
    "\n",
    "for i in range(3):\n",
    "    ll.add(i)\n",
    "\n",
    "print(ll)"
   ]
  },
  {
   "cell_type": "code",
   "execution_count": null,
   "metadata": {},
   "outputs": [],
   "source": []
  },
  {
   "cell_type": "code",
   "execution_count": 31,
   "metadata": {},
   "outputs": [
    {
     "name": "stdout",
     "output_type": "stream",
     "text": [
      "0\n"
     ]
    }
   ],
   "source": [
    "# __len__\n",
    "ll = linkedList()\n",
    "\n",
    "for i in range(3):\n",
    "    ll.add(i)\n",
    "\n",
    "print(len(ll))"
   ]
  },
  {
   "cell_type": "code",
   "execution_count": 29,
   "metadata": {},
   "outputs": [
    {
     "ename": "TypeError",
     "evalue": "'NoneType' object is not callable",
     "output_type": "error",
     "traceback": [
      "\u001b[0;31m---------------------------------------------------------------------------\u001b[0m",
      "\u001b[0;31mTypeError\u001b[0m                                 Traceback (most recent call last)",
      "Cell \u001b[0;32mIn[29], line 7\u001b[0m\n\u001b[1;32m      4\u001b[0m \u001b[38;5;28;01mfor\u001b[39;00m i \u001b[38;5;129;01min\u001b[39;00m \u001b[38;5;28mrange\u001b[39m(\u001b[38;5;241m5\u001b[39m):\n\u001b[1;32m      5\u001b[0m     ll\u001b[38;5;241m.\u001b[39madd(i)\n\u001b[0;32m----> 7\u001b[0m \u001b[38;5;28mprint\u001b[39m(ll[\u001b[38;5;241m3\u001b[39m], ll[\u001b[38;5;241m3\u001b[39m]\u001b[38;5;241m.\u001b[39mdata)\n\u001b[1;32m      8\u001b[0m \u001b[38;5;28mprint\u001b[39m(ll)\n",
      "Cell \u001b[0;32mIn[27], line 28\u001b[0m, in \u001b[0;36mlinkedList.__getitem__\u001b[0;34m(self, pos)\u001b[0m\n\u001b[1;32m     24\u001b[0m \u001b[38;5;28;01mdef\u001b[39;00m \u001b[38;5;21m__getitem__\u001b[39m(\u001b[38;5;28mself\u001b[39m, pos):\n\u001b[1;32m     25\u001b[0m     \u001b[38;5;66;03m#I need to define some temporary variables that I can use\u001b[39;00m\n\u001b[1;32m     26\u001b[0m     \u001b[38;5;66;03m#to walk through the list\u001b[39;00m\n\u001b[0;32m---> 28\u001b[0m     curr \u001b[38;5;241m=\u001b[39m \u001b[38;5;28mself\u001b[39m\u001b[38;5;241m.\u001b[39mhead(\u001b[38;5;241m1\u001b[39m)\n\u001b[1;32m     30\u001b[0m     i \u001b[38;5;241m=\u001b[39m \u001b[38;5;241m0\u001b[39m\n\u001b[1;32m     32\u001b[0m     \u001b[38;5;28;01mwhile\u001b[39;00m (curr \u001b[38;5;129;01mand\u001b[39;00m i \u001b[38;5;241m<\u001b[39m pos):\n\u001b[1;32m     33\u001b[0m         \u001b[38;5;66;03m#when do i want to do this/how often?\u001b[39;00m\n",
      "\u001b[0;31mTypeError\u001b[0m: 'NoneType' object is not callable"
     ]
    }
   ],
   "source": [
    "# __getItem__\n",
    "ll = linkedList()\n",
    "\n",
    "for i in range(5):\n",
    "    ll.add(i)\n",
    "\n",
    "print(ll[3], ll[3].data)\n",
    "print(ll)"
   ]
  },
  {
   "cell_type": "code",
   "execution_count": 26,
   "metadata": {},
   "outputs": [
    {
     "ename": "AttributeError",
     "evalue": "'NoneType' object has no attribute 'next'",
     "output_type": "error",
     "traceback": [
      "\u001b[0;31m---------------------------------------------------------------------------\u001b[0m",
      "\u001b[0;31mAttributeError\u001b[0m                            Traceback (most recent call last)",
      "Cell \u001b[0;32mIn[26], line 6\u001b[0m\n\u001b[1;32m      3\u001b[0m \u001b[38;5;28;01mfor\u001b[39;00m i \u001b[38;5;129;01min\u001b[39;00m \u001b[38;5;28mrange\u001b[39m(\u001b[38;5;241m5\u001b[39m):\n\u001b[1;32m      4\u001b[0m     ll\u001b[38;5;241m.\u001b[39madd(i)\n\u001b[0;32m----> 6\u001b[0m ll\u001b[38;5;241m.\u001b[39minsert(\u001b[38;5;124m\"\u001b[39m\u001b[38;5;124mV\u001b[39m\u001b[38;5;124m\"\u001b[39m, \u001b[38;5;241m1\u001b[39m)\n\u001b[1;32m      7\u001b[0m \u001b[38;5;28mprint\u001b[39m(ll)\n",
      "Cell \u001b[0;32mIn[25], line 48\u001b[0m, in \u001b[0;36mlinkedList.insert\u001b[0;34m(self, data, pos)\u001b[0m\n\u001b[1;32m     46\u001b[0m \u001b[38;5;28;01melse\u001b[39;00m:\n\u001b[1;32m     47\u001b[0m     prev \u001b[38;5;241m=\u001b[39m \u001b[38;5;28mself\u001b[39m\u001b[38;5;241m.\u001b[39m\u001b[38;5;21m__getitem__\u001b[39m(pos\u001b[38;5;241m-\u001b[39m\u001b[38;5;241m1\u001b[39m)\n\u001b[0;32m---> 48\u001b[0m     temp \u001b[38;5;241m=\u001b[39m prev\u001b[38;5;241m.\u001b[39mnext\n\u001b[1;32m     49\u001b[0m     prev\u001b[38;5;241m.\u001b[39mnext \u001b[38;5;241m=\u001b[39m Node(data, temp)\n",
      "\u001b[0;31mAttributeError\u001b[0m: 'NoneType' object has no attribute 'next'"
     ]
    }
   ],
   "source": [
    "# insert\n",
    "ll = linkedList()\n",
    "for i in range(5):\n",
    "    ll.add(i)\n",
    "\n",
    "ll.insert(\"V\", 1)\n",
    "print(ll)"
   ]
  },
  {
   "cell_type": "code",
   "execution_count": null,
   "metadata": {},
   "outputs": [],
   "source": [
    "# delete\n",
    "ll = linkedList()\n",
    "for i in range(5):\n",
    "    ll.add(i)\n",
    "\n",
    "ll.delete(3)\n",
    "print(ll)\n"
   ]
  },
  {
   "cell_type": "code",
   "execution_count": null,
   "metadata": {},
   "outputs": [],
   "source": [
    "ll = linkedList()\n",
    "\n",
    "for i in range(5):\n",
    "    ll.add(i)\n",
    "    ll.add(i)\n",
    "\n",
    "ll.remove(4)"
   ]
  },
  {
   "cell_type": "markdown",
   "metadata": {},
   "source": [
    "## Optional exercises"
   ]
  },
  {
   "cell_type": "markdown",
   "metadata": {},
   "source": [
    "After completing the optional functions find() and remove(), you can test them with the following code cells!"
   ]
  },
  {
   "cell_type": "code",
   "execution_count": null,
   "metadata": {},
   "outputs": [],
   "source": [
    "ll = linkedList()\n",
    "ll.add(\"A\")\n",
    "ll.add(\"B\")\n",
    "ll.add(\"C\")\n",
    "ll.add(\"D\")\n",
    "ll.add(\"B\")\n",
    "ll.add(\"A\")\n",
    "node = ll.find(\"B\")\n",
    "\n",
    "if(node):\n",
    "    print(\"Exists!\")\n",
    "else:\n",
    "    print(\"Doesnt exist!\")"
   ]
  },
  {
   "cell_type": "code",
   "execution_count": null,
   "metadata": {},
   "outputs": [],
   "source": [
    "ll = linkedList()\n",
    "ll.add(\"A\")\n",
    "ll.add(\"B\")\n",
    "ll.add(\"C\")\n",
    "ll.add(\"D\")\n",
    "ll.add(\"B\")\n",
    "ll.add(\"A\")\n",
    "node = ll.remove(\"A\")\n",
    "\n",
    "print(ll)"
   ]
  }
 ],
 "metadata": {
  "kernelspec": {
   "display_name": "Python 3 (ipykernel)",
   "language": "python",
   "name": "python3"
  },
  "language_info": {
   "codemirror_mode": {
    "name": "ipython",
    "version": 3
   },
   "file_extension": ".py",
   "mimetype": "text/x-python",
   "name": "python",
   "nbconvert_exporter": "python",
   "pygments_lexer": "ipython3",
   "version": "3.12.2"
  }
 },
 "nbformat": 4,
 "nbformat_minor": 4
}
